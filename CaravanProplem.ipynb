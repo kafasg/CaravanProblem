{
 "cells": [
  {
   "cell_type": "markdown",
   "id": "36131507",
   "metadata": {
    "id": "36131507"
   },
   "source": [
    "# Lab 3\n",
    "\n",
    "### George Fakas i6260280"
   ]
  },
  {
   "cell_type": "markdown",
   "id": "a6daff88",
   "metadata": {
    "id": "a6daff88"
   },
   "source": [
    "- Read our data"
   ]
  },
  {
   "cell_type": "code",
   "execution_count": null,
   "id": "d6cc80fe",
   "metadata": {
    "id": "d6cc80fe"
   },
   "outputs": [],
   "source": [
    "import pandas as pd\n",
    "import matplotlib.pyplot as plt\n",
    "import plotly.express as px\n",
    "from sklearn.preprocessing import StandardScaler\n",
    "from sklearn.decomposition import PCA\n",
    "import numpy as np\n",
    "import seaborn as sn"
   ]
  },
  {
   "cell_type": "code",
   "execution_count": null,
   "id": "24a96c8a",
   "metadata": {
    "colab": {
     "base_uri": "https://localhost:8080/",
     "height": 507
    },
    "id": "24a96c8a",
    "outputId": "8b8298d5-5f2b-4472-8fe2-ca8824db9e97"
   },
   "outputs": [],
   "source": [
    "Tr_data=pd.read_csv('caravan.csv',sep=',')\n",
    "Tr_data"
   ]
  },
  {
   "cell_type": "code",
   "execution_count": null,
   "id": "4f8b8d07",
   "metadata": {
    "colab": {
     "base_uri": "https://localhost:8080/",
     "height": 507
    },
    "id": "4f8b8d07",
    "outputId": "6b4098e2-8c9e-439e-d6c1-05b710f6b244"
   },
   "outputs": [],
   "source": [
    "Y_tr = Tr_data['CARAVAN POLICY']\n",
    "X_tr = Tr_data.drop('CARAVAN POLICY',axis=1)\n",
    "X_tr"
   ]
  },
  {
   "cell_type": "code",
   "execution_count": null,
   "id": "5159371f",
   "metadata": {
    "colab": {
     "base_uri": "https://localhost:8080/",
     "height": 507
    },
    "id": "5159371f",
    "outputId": "b5f57f75-a858-4602-ef7e-de15379bc050"
   },
   "outputs": [],
   "source": [
    "Ts_data=pd.read_csv('caravanTest.csv',sep=',')\n",
    "Ts_data"
   ]
  },
  {
   "cell_type": "code",
   "execution_count": null,
   "id": "673f58a6",
   "metadata": {
    "colab": {
     "base_uri": "https://localhost:8080/",
     "height": 507
    },
    "id": "673f58a6",
    "outputId": "afea1ae9-2378-403f-b581-ec0ddbc500d5"
   },
   "outputs": [],
   "source": [
    "Y_ts = Ts_data['CARAVAN POLICY']\n",
    "X_ts = Ts_data.drop('CARAVAN POLICY',axis=1)\n",
    "X_ts"
   ]
  },
  {
   "cell_type": "code",
   "execution_count": null,
   "id": "54986956",
   "metadata": {
    "colab": {
     "base_uri": "https://localhost:8080/"
    },
    "id": "54986956",
    "outputId": "596c0deb-cab0-4340-b393-af5ba29c8348"
   },
   "outputs": [],
   "source": [
    "Tr_data.info()"
   ]
  },
  {
   "cell_type": "code",
   "execution_count": null,
   "id": "603affb4",
   "metadata": {
    "colab": {
     "base_uri": "https://localhost:8080/",
     "height": 414
    },
    "id": "603affb4",
    "outputId": "15279c13-c72f-4086-92d8-8bdf5532335d"
   },
   "outputs": [],
   "source": [
    "Tr_data.describe()"
   ]
  },
  {
   "cell_type": "code",
   "execution_count": null,
   "id": "LARlOsI6JM3A",
   "metadata": {
    "colab": {
     "base_uri": "https://localhost:8080/",
     "height": 1000
    },
    "id": "LARlOsI6JM3A",
    "outputId": "d151b885-f7ff-4e50-920b-807771d8f6d8"
   },
   "outputs": [],
   "source": [
    "# Scatterplots to search for linear and non-linear relationships and histograms.\n",
    "#sn.pairplot(Tr_data, diag_kind='hist',  hue= 'CARAVAN POLICY', height=1.5, \n",
    "#             diag_kws={\"edgecolor\":\"k\", \"alpha\":0.5},\n",
    "#             plot_kws={\"alpha\":0.5})"
   ]
  },
  {
   "cell_type": "code",
   "execution_count": null,
   "id": "c5f82de3",
   "metadata": {
    "colab": {
     "base_uri": "https://localhost:8080/",
     "height": 973
    },
    "id": "c5f82de3",
    "outputId": "bb5faf27-aa4f-4646-fd29-8e07a3b130ad"
   },
   "outputs": [],
   "source": [
    "Tr_data.hist(figsize=(100,100))\n",
    "plt.show()"
   ]
  },
  {
   "cell_type": "code",
   "execution_count": null,
   "id": "3b7e58fc",
   "metadata": {
    "colab": {
     "base_uri": "https://localhost:8080/",
     "height": 1000
    },
    "id": "3b7e58fc",
    "outputId": "eb8b61a1-a54b-4075-9ceb-3e12edaddc3f",
    "scrolled": false
   },
   "outputs": [],
   "source": [
    "fig = px.imshow(Tr_data.corr(),width=1200, height=1200)\n",
    "fig.update_coloraxes(showscale=False)\n",
    "fig.show()"
   ]
  },
  {
   "cell_type": "code",
   "execution_count": null,
   "id": "e361d795",
   "metadata": {
    "colab": {
     "base_uri": "https://localhost:8080/",
     "height": 1000
    },
    "id": "e361d795",
    "outputId": "e7d7f2c9-c430-4f0e-cf73-767fb60202c9",
    "scrolled": false
   },
   "outputs": [],
   "source": [
    "corr = Tr_data.corr()\n",
    "corr.style.background_gradient(cmap='coolwarm').set_precision(3)"
   ]
  },
  {
   "cell_type": "markdown",
   "id": "jwzwu7WOdfTZ",
   "metadata": {
    "id": "jwzwu7WOdfTZ"
   },
   "source": [
    "# Assignment 1: Describe the actual or potential customers and possibly explain why these customers buy a caravan policy."
   ]
  },
  {
   "cell_type": "code",
   "execution_count": null,
   "id": "d7sCyc4zhCvj",
   "metadata": {
    "id": "d7sCyc4zhCvj"
   },
   "outputs": [],
   "source": [
    "corr_matrix = Tr_data.corr()\n",
    "Sort_Corr=corr_matrix['CARAVAN POLICY'].sort_values(ascending=False)"
   ]
  },
  {
   "cell_type": "code",
   "execution_count": null,
   "id": "rXG_tHhmhadg",
   "metadata": {
    "colab": {
     "base_uri": "https://localhost:8080/"
    },
    "id": "rXG_tHhmhadg",
    "outputId": "973bf71c-2e5f-4d33-a2f1-ac1108572e08"
   },
   "outputs": [],
   "source": [
    "Sort_Corr[0:21]"
   ]
  },
  {
   "cell_type": "code",
   "execution_count": null,
   "id": "mt5MJ06_deMM",
   "metadata": {
    "colab": {
     "base_uri": "https://localhost:8080/",
     "height": 282
    },
    "id": "mt5MJ06_deMM",
    "outputId": "8546c14a-e595-4974-d328-d80bc75ad507"
   },
   "outputs": [],
   "source": [
    "Tr_data['CARAVAN POLICY'].hist()"
   ]
  },
  {
   "cell_type": "code",
   "execution_count": null,
   "id": "f_wTvZFXn3-F",
   "metadata": {
    "colab": {
     "base_uri": "https://localhost:8080/",
     "height": 353
    },
    "id": "f_wTvZFXn3-F",
    "outputId": "f24b2c55-e07c-4048-c7b1-eea67e52d5f4"
   },
   "outputs": [],
   "source": [
    "fig, ax1 = plt.subplots()\n",
    "ax1.hist([Tr_data[Tr_data['CARAVAN POLICY']==1]['Contribution car policies'],\n",
    "          Tr_data[Tr_data['CARAVAN POLICY']==0]['Contribution car policies']],\n",
    "         color=['b','g'],\n",
    "         label=['With caravan Policy', 'Without caravan Policy'])\n",
    "ax1.set_ylabel(\"Count\")\n",
    "plt.legend(loc='upper right')\n",
    "plt.show()"
   ]
  },
  {
   "cell_type": "code",
   "execution_count": null,
   "id": "g7SOD_nRmScw",
   "metadata": {
    "colab": {
     "base_uri": "https://localhost:8080/",
     "height": 353
    },
    "id": "g7SOD_nRmScw",
    "outputId": "0ac2f0f3-2aeb-464c-d974-9fe508fe252e"
   },
   "outputs": [],
   "source": [
    "fig, ax1 = plt.subplots()\n",
    "ax1.hist([Tr_data[Tr_data['CARAVAN POLICY']==1]['Number of car policies'],\n",
    "          Tr_data[Tr_data['CARAVAN POLICY']==0]['Number of car policies']],\n",
    "         color=['b','g'],\n",
    "         label=['With caravan Policy', 'Without caravan Policy'])\n",
    "ax1.set_ylabel(\"Count\")\n",
    "plt.legend(loc='upper right')\n",
    "plt.show()\n",
    "\n"
   ]
  },
  {
   "cell_type": "code",
   "execution_count": null,
   "id": "weGhjmIcdeRK",
   "metadata": {
    "colab": {
     "base_uri": "https://localhost:8080/",
     "height": 353
    },
    "id": "weGhjmIcdeRK",
    "outputId": "ddda1f75-9d8d-494d-a6a1-569b881d4522"
   },
   "outputs": [],
   "source": [
    "fig, ax1 = plt.subplots()\n",
    "ax1.hist([Tr_data[Tr_data['CARAVAN POLICY']==1]['Number of boat policies'],\n",
    "          Tr_data[Tr_data['CARAVAN POLICY']==0]['Number of boat policies']],\n",
    "         color=['b','g'],\n",
    "         label=['With caravan Policy', 'Without caravan Policy'])\n",
    "ax1.set_ylabel(\"Count\")\n",
    "plt.legend(loc='upper right')\n",
    "plt.show()"
   ]
  },
  {
   "cell_type": "code",
   "execution_count": null,
   "id": "U76nKSEPdeTe",
   "metadata": {
    "colab": {
     "base_uri": "https://localhost:8080/",
     "height": 357
    },
    "id": "U76nKSEPdeTe",
    "outputId": "11473a29-0266-4b83-d373-8ea660a71d20"
   },
   "outputs": [],
   "source": [
    "fig, ax1 = plt.subplots()\n",
    "ax1.hist([Tr_data[Tr_data['CARAVAN POLICY']==1]['Contribution private third party insurance'],\n",
    "          Tr_data[Tr_data['CARAVAN POLICY']==0]['Contribution private third party insurance']],\n",
    "         color=['b','g'],\n",
    "         label=['With caravan Policy', 'Without caravan Policy'])\n",
    "ax1.set_ylabel(\"Count\")\n",
    "plt.legend(loc='upper right')\n",
    "plt.show()\n"
   ]
  },
  {
   "cell_type": "code",
   "execution_count": null,
   "id": "JjdYPZS0deVy",
   "metadata": {
    "colab": {
     "base_uri": "https://localhost:8080/",
     "height": 353
    },
    "id": "JjdYPZS0deVy",
    "outputId": "d8923676-c68e-48cb-921e-c2f2564bc81e"
   },
   "outputs": [],
   "source": [
    "fig, ax1 = plt.subplots()\n",
    "ax1.hist([Tr_data[Tr_data['CARAVAN POLICY']==1]['Purchasing power class'],\n",
    "          Tr_data[Tr_data['CARAVAN POLICY']==0]['Purchasing power class']],\n",
    "         color=['b','g'],\n",
    "         label=['With caravan Policy', 'Without caravan Policy'])\n",
    "ax1.set_ylabel(\"Count\")\n",
    "plt.legend(loc='upper right')\n",
    "plt.show()"
   ]
  },
  {
   "cell_type": "code",
   "execution_count": null,
   "id": "qU9lVEMIdeYa",
   "metadata": {
    "colab": {
     "base_uri": "https://localhost:8080/",
     "height": 353
    },
    "id": "qU9lVEMIdeYa",
    "outputId": "5a876559-a7fb-498a-9e5b-c83dc414019c"
   },
   "outputs": [],
   "source": [
    "fig, ax1 = plt.subplots()\n",
    "ax1.hist([Tr_data[Tr_data['CARAVAN POLICY']==1]['Contribution fire policies'],\n",
    "          Tr_data[Tr_data['CARAVAN POLICY']==0]['Contribution fire policies']],\n",
    "         color=['b','g'],\n",
    "         label=['With caravan Policy', 'Without caravan Policy'])\n",
    "ax1.set_ylabel(\"Count\")\n",
    "plt.legend(loc='upper right')\n",
    "plt.show()"
   ]
  },
  {
   "cell_type": "code",
   "execution_count": null,
   "id": "ecGefS1Ndeao",
   "metadata": {
    "colab": {
     "base_uri": "https://localhost:8080/",
     "height": 353
    },
    "id": "ecGefS1Ndeao",
    "outputId": "6d864c91-5c49-4c45-ec5d-8203efc69d1a"
   },
   "outputs": [],
   "source": [
    "fig, ax1 = plt.subplots()\n",
    "ax1.hist([Tr_data[Tr_data['CARAVAN POLICY']==1]['Contribution boat policies'],\n",
    "          Tr_data[Tr_data['CARAVAN POLICY']==0]['Contribution boat policies']],\n",
    "         color=['b','g'],\n",
    "         label=['With caravan Policy', 'Without caravan Policy'])\n",
    "ax1.set_ylabel(\"Count\")\n",
    "plt.legend(loc='upper right')\n",
    "plt.show()"
   ]
  },
  {
   "cell_type": "code",
   "execution_count": null,
   "id": "qbob_3hbdedE",
   "metadata": {
    "colab": {
     "base_uri": "https://localhost:8080/",
     "height": 353
    },
    "id": "qbob_3hbdedE",
    "outputId": "8444cb32-48d8-47cb-f2d7-9c7231a01e68"
   },
   "outputs": [],
   "source": [
    "fig, ax1 = plt.subplots()\n",
    "ax1.hist([Tr_data[Tr_data['CARAVAN POLICY']==1]['Average income'],\n",
    "          Tr_data[Tr_data['CARAVAN POLICY']==0]['Average income']],\n",
    "         color=['b','g'],\n",
    "         label=['With caravan Policy', 'Without caravan Policy'])\n",
    "ax1.set_ylabel(\"Count\")\n",
    "plt.legend(loc='upper right')\n",
    "plt.show()"
   ]
  },
  {
   "cell_type": "code",
   "execution_count": null,
   "id": "YcNFumvndef3",
   "metadata": {
    "colab": {
     "base_uri": "https://localhost:8080/",
     "height": 357
    },
    "id": "YcNFumvndef3",
    "outputId": "e1205abf-cf80-4a7c-92bb-ddd54e70f498"
   },
   "outputs": [],
   "source": [
    "fig, ax1 = plt.subplots()\n",
    "ax1.hist([Tr_data[Tr_data['CARAVAN POLICY']==1]['Number of private third party insurance'],\n",
    "          Tr_data[Tr_data['CARAVAN POLICY']==0]['Number of private third party insurance']],\n",
    "         color=['b','g'],\n",
    "         label=['With caravan Policy', 'Without caravan Policy'])\n",
    "ax1.set_ylabel(\"Count\")\n",
    "plt.legend(loc='upper right')\n",
    "plt.show()"
   ]
  },
  {
   "cell_type": "code",
   "execution_count": null,
   "id": "iePLZI7Tdeic",
   "metadata": {
    "colab": {
     "base_uri": "https://localhost:8080/",
     "height": 353
    },
    "id": "iePLZI7Tdeic",
    "outputId": "df04ed33-6f5f-44c5-bb28-71b8bd6c815b"
   },
   "outputs": [],
   "source": [
    "fig, ax1 = plt.subplots()\n",
    "ax1.hist([Tr_data[Tr_data['CARAVAN POLICY']==1]['High level education'],\n",
    "          Tr_data[Tr_data['CARAVAN POLICY']==0]['High level education']],\n",
    "         color=['b','g'],\n",
    "         label=['With caravan Policy', 'Without caravan Policy'])\n",
    "ax1.set_ylabel(\"Count\")\n",
    "plt.legend(loc='upper right')\n",
    "plt.show()"
   ]
  },
  {
   "cell_type": "code",
   "execution_count": null,
   "id": "MMu7B9K6dekc",
   "metadata": {
    "colab": {
     "base_uri": "https://localhost:8080/",
     "height": 353
    },
    "id": "MMu7B9K6dekc",
    "outputId": "9075cc55-15e8-4307-87a8-1741990511fc"
   },
   "outputs": [],
   "source": [
    "fig, ax1 = plt.subplots()\n",
    "ax1.hist([Tr_data[Tr_data['CARAVAN POLICY']==1]['Home owners'],\n",
    "          Tr_data[Tr_data['CARAVAN POLICY']==0]['Home owners']],\n",
    "         color=['b','g'],\n",
    "         label=['With caravan Policy', 'Without caravan Policy'])\n",
    "ax1.set_ylabel(\"Count\")\n",
    "plt.legend(loc='upper right')\n",
    "plt.show()"
   ]
  },
  {
   "cell_type": "markdown",
   "id": "-I-MBx59rC8B",
   "metadata": {
    "id": "-I-MBx59rC8B"
   },
   "source": [
    "From the above we can say that the 15 most correlated features describes the Caravan Policy owners.\n",
    "\n",
    "Based on previous histogramms, a posible caravan policy buyer have 1 car policies, 6 car contribution policies. Posible they dont have boat policies and posibly they have 2 Contribution private third party insurance. They most likely have 8 houses and they belong to average income class 4. Most likely their higher educational level is classified as 0."
   ]
  },
  {
   "cell_type": "markdown",
   "id": "hRa3nUXa1Hxu",
   "metadata": {
    "id": "hRa3nUXa1Hxu"
   },
   "source": [
    "# Assignment 2: Select customers from a test file to send information to. The file with those customers will be provided on the day of lab’s deadline."
   ]
  },
  {
   "cell_type": "code",
   "execution_count": null,
   "id": "L-VjsjCcdete",
   "metadata": {
    "id": "L-VjsjCcdete"
   },
   "outputs": [],
   "source": [
    "from sklearn import metrics\n",
    "from sklearn.neighbors import KNeighborsClassifier\n",
    "from sklearn.tree import DecisionTreeClassifier\n",
    "from sklearn.linear_model import LogisticRegression\n",
    "from sklearn.ensemble import RandomForestClassifier\n",
    "from sklearn.metrics import accuracy_score\n",
    "from sklearn.metrics import roc_curve, auc, classification_report\n",
    "from sklearn.model_selection import GridSearchCV\n",
    "import warnings\n",
    "warnings.filterwarnings('ignore')\n",
    "from sklearn.model_selection import cross_val_score\n",
    "from sklearn.model_selection import cross_val_predict\n",
    "from sklearn.metrics import confusion_matrix"
   ]
  },
  {
   "cell_type": "code",
   "execution_count": null,
   "id": "1mBvYYhf1lcK",
   "metadata": {
    "id": "1mBvYYhf1lcK"
   },
   "outputs": [],
   "source": [
    "from sklearn.pipeline import make_pipeline\n",
    "from sklearn.feature_selection import SelectKBest \n",
    "from sklearn.feature_selection import chi2,f_classif\n",
    "from sklearn.feature_selection import RFE\n"
   ]
  },
  {
   "cell_type": "code",
   "execution_count": null,
   "id": "b5e7d03e",
   "metadata": {},
   "outputs": [],
   "source": [
    "from sklearn.metrics import confusion_matrix, roc_auc_score, roc_curve, classification_report, f1_score\n",
    "def plots(Y_ts,Y_pred):\n",
    "    fig, (ax1, ax2) = plt.subplots(1, 2)\n",
    "    false_positive_rate, true_positive_rate, threshold = roc_curve(Y_ts, Y_pred)\n",
    "    roc_score = roc_auc_score(Y_ts,Y_pred) \n",
    "    ax1.set_title(\"Receiver Operating Characteristic\")\n",
    "    ax1.plot(false_positive_rate, true_positive_rate)\n",
    "    ax1.plot([0, 1], ls=\"--\")\n",
    "    ax1.plot([0, 0], [1, 0] , c=\".7\"), plt.plot([1, 1] , c=\".7\")\n",
    "    ax1.annotate('ROC: {:.5f}'.format(roc_score), [0.75,0.05])\n",
    "    ax1.set_ylabel(\"True Positive Rate\")\n",
    "    ax1.set_xlabel(\"False Positive Rate\")\n",
    "    cm = pd.DataFrame(confusion_matrix(Y_ts, Y_pred,labels = [0,1]))\n",
    "    ax2.set_title('Confusion matrix ')\n",
    "    sn.heatmap(cm, annot=True, cmap=\"YlGnBu\",fmt='g',cbar = False)\n",
    "    ax2.set_ylabel('True')\n",
    "    ax2.set_xlabel('Predicted')\n",
    "    fig.tight_layout()\n",
    "    plt.show()\n",
    "    return"
   ]
  },
  {
   "cell_type": "code",
   "execution_count": null,
   "id": "12a02360",
   "metadata": {},
   "outputs": [],
   "source": [
    "def simple_clas(Classifier):\n",
    "    Classifier.fit(X_tr, Y_tr)\n",
    "\n",
    "    Y_pred=Classifier.predict(X_ts)\n",
    "    score = Classifier.score(X_ts, Y_ts)\n",
    "    plots(Y_ts,Y_pred)\n",
    "    print(Classifier,'We have accuracy of: ', str(score.mean()))\n",
    "    return"
   ]
  },
  {
   "cell_type": "code",
   "execution_count": null,
   "id": "e2e96c2f",
   "metadata": {},
   "outputs": [],
   "source": [
    "simple_clas(RandomForestClassifier())\n",
    "simple_clas(KNeighborsClassifier())\n",
    "simple_clas(DecisionTreeClassifier())\n",
    "simple_clas(LogisticRegression())"
   ]
  },
  {
   "cell_type": "code",
   "execution_count": null,
   "id": "mflRCcrcAbFx",
   "metadata": {
    "id": "mflRCcrcAbFx"
   },
   "outputs": [],
   "source": [
    "def pipelin(classifier,n):\n",
    "    pipeClassifier = make_pipeline(SelectKBest(chi2,k=n), classifier) #k is the number of variables selected\n",
    "    pipeClassifier.fit(X_tr, Y_tr)\n",
    "    Y_pred=pipeClassifier.predict(X_ts)\n",
    "    score = pipeClassifier.score(X_ts, Y_ts)\n",
    "    plots(Y_ts,Y_pred)\n",
    "    print('We have accuracy of: ', str(score.mean()))\n",
    "    return"
   ]
  },
  {
   "cell_type": "code",
   "execution_count": null,
   "id": "f1e7ef81",
   "metadata": {},
   "outputs": [],
   "source": [
    "pipelin(RandomForestClassifier(),40)"
   ]
  },
  {
   "cell_type": "code",
   "execution_count": null,
   "id": "YnCYCyAHCgxU",
   "metadata": {
    "colab": {
     "base_uri": "https://localhost:8080/",
     "height": 312
    },
    "id": "YnCYCyAHCgxU",
    "outputId": "af7fdf72-a6cf-4fac-f1c8-b71c26393327"
   },
   "outputs": [],
   "source": [
    "pipelin(LogisticRegression(),10)"
   ]
  },
  {
   "cell_type": "code",
   "execution_count": null,
   "id": "9mtshx-1dewR",
   "metadata": {
    "colab": {
     "base_uri": "https://localhost:8080/",
     "height": 312
    },
    "id": "9mtshx-1dewR",
    "outputId": "94d447c8-c53d-4036-8e50-e68e6b0394d8"
   },
   "outputs": [],
   "source": [
    "pipelin(DecisionTreeClassifier(),45)"
   ]
  },
  {
   "cell_type": "code",
   "execution_count": null,
   "id": "t-90h-phDwmi",
   "metadata": {
    "colab": {
     "base_uri": "https://localhost:8080/",
     "height": 312
    },
    "id": "t-90h-phDwmi",
    "outputId": "14d20319-0095-4ecb-f8d7-8f732f917bde"
   },
   "outputs": [],
   "source": [
    "pipelin(KNeighborsClassifier(),25)"
   ]
  },
  {
   "cell_type": "code",
   "execution_count": null,
   "id": "288c259d",
   "metadata": {},
   "outputs": [],
   "source": [
    "# pipeline combining transformers and estimator\n",
    "pipeline= make_pipeline(SelectKBest(f_classif), RandomForestClassifier())\n",
    " \n",
    "# grid searh to choose the best (combination of) hyperparameters\n",
    "grid_searh_RF=GridSearchCV(estimator= pipeline,\n",
    "                           param_grid = {'selectkbest__k': [10],\n",
    "                                         'randomforestclassifier__n_estimators': [40,60,100],\n",
    "                                         'randomforestclassifier__min_samples_leaf':[3,7,17,31],\n",
    "                                         'randomforestclassifier__max_leaf_nodes': [4,8,16,32,64],\n",
    "                                         'randomforestclassifier__min_samples_split':[3,5,10,20,30],\n",
    "                                         \n",
    "                         },\n",
    "                           n_jobs=-1,\n",
    "                           scoring='roc_auc',\n",
    "                           cv=10)\n",
    "\n",
    "grid_searh_RF_scores = cross_val_score(grid_searh_RF, X=X_tr, y=Y_tr, cv=5,scoring='accuracy', n_jobs=-1)\n",
    "\n",
    "# fit, and fit with best estimator\n",
    "grid_searh_RF.fit(X_tr, Y_tr)\n",
    "grid_searh_RF_best=grid_searh_RF.best_estimator_\n",
    "grid_searh_RF_best.fit(X_tr, Y_tr)\n",
    "\n",
    "print(grid_searh_RF_best)\n",
    "print('Train Accuracy:   {0:.1f}%'.format(grid_searh_RF.score(X_tr, Y_tr)*100))\n",
    "print('CV Mean Accuracy: {0:.1f}%'.format(np.mean(grid_searh_RF_scores)*100))\n",
    "print('Test Accuracy:    {0:.1f}%'.format(grid_searh_RF.score(X_ts, Y_ts)*100))\n",
    "\n",
    "Y_pred=grid_searh_RF_best.predict(X_ts)\n",
    "plots(Y_ts,Y_pred)"
   ]
  },
  {
   "cell_type": "code",
   "execution_count": null,
   "id": "3EJa8407ToLm",
   "metadata": {
    "id": "3EJa8407ToLm"
   },
   "outputs": [],
   "source": [
    "# pipeline combining transformers and estimator\n",
    "pipeline= make_pipeline(StandardScaler(),SelectKBest(f_classif), KNeighborsClassifier())\n",
    " \n",
    "# grid searh to choose the best (combination of) hyperparameters\n",
    "grid_searh_knn=GridSearchCV(estimator= pipeline,\n",
    "               param_grid={'kneighborsclassifier__n_neighbors':[4,5,6,7,10,15,20,25,30,35,40],'selectkbest__k': [5,10,15,20,25,30,35,40,45]},\n",
    "               scoring='accuracy',\n",
    "               cv=10)\n",
    "\n",
    "# nested cross validation combining grid search (inner loop) and k-fold cv (outter loop)\n",
    "grid_searh_knn_scores = cross_val_score(grid_searh_knn, X=X_tr, y=Y_tr, cv=5,scoring='accuracy', n_jobs=-1)\n",
    "\n",
    "# fit, and fit with best estimator\n",
    "grid_searh_knn.fit(X_tr, Y_tr)\n",
    "grid_searh_knn_best=grid_searh_knn.best_estimator_\n",
    "grid_searh_knn_best.fit(X_tr, Y_tr)\n",
    "\n",
    "print(grid_searh_knn_best)\n",
    "print('Train Accuracy:   {0:.1f}%'.format(grid_searh_knn.score(X_tr, Y_tr)*100))\n",
    "print('CV Mean Accuracy: {0:.1f}%'.format(np.mean(grid_searh_knn_scores)*100))\n",
    "print('Test Accuracy:    {0:.1f}%'.format(grid_searh_knn.score(X_ts, Y_ts)*100))\n",
    "\n",
    "Y_pred=grid_searh_knn_best.predict(X_ts)\n",
    "plots(Y_ts,Y_pred)\n"
   ]
  },
  {
   "cell_type": "code",
   "execution_count": null,
   "id": "6af10bcb",
   "metadata": {},
   "outputs": [],
   "source": [
    "# pipeline combining transformers and estimator\n",
    "pipeline= make_pipeline(StandardScaler(),SelectKBest(f_classif), DecisionTreeClassifier())\n",
    " \n",
    "# grid searh to choose the best (combination of) hyperparameters\n",
    "grid_searh_dt=GridSearchCV(estimator= pipeline,\n",
    "                           param_grid = {'selectkbest__k': [5,10,15,20,25,30,35,40,45],\n",
    "                          'decisiontreeclassifier__max_features': ['auto', 'sqrt', 'log2'],\n",
    "                          'decisiontreeclassifier__ccp_alpha': [0.1, .01, .001],\n",
    "                          'decisiontreeclassifier__max_depth' : [4,5,6,7,8,9,10,11,12,15,20,30,40,50],\n",
    "                          'decisiontreeclassifier__criterion' :['gini', 'entropy']\n",
    "                         },                        \n",
    "              scoring='roc_auc', n_jobs=-1)\n",
    "\n",
    "grid_searh_dt_scores = cross_val_score(grid_searh_dt, X=X_tr, y=Y_tr, cv=5,scoring='accuracy', n_jobs=-1)\n",
    "\n",
    "# fit, and fit with best estimator\n",
    "grid_searh_dt.fit(X_tr, Y_tr)\n",
    "grid_searh_dt_best=grid_searh_dt.best_estimator_\n",
    "grid_searh_dt_best.fit(X_tr, Y_tr)\n",
    "\n",
    "print(grid_searh_dt_best)\n",
    "print('Train Accuracy:   {0:.1f}%'.format(grid_searh_dt.score(X_tr, Y_tr)*100))\n",
    "print('CV Mean Accuracy: {0:.1f}%'.format(np.mean(grid_searh_dt_scores)*100))\n",
    "print('Test Accuracy:    {0:.1f}%'.format(grid_searh_dt.score(X_ts, Y_ts)*100))\n",
    "\n",
    "Y_pred=grid_searh_dt_best.predict(X_ts)\n",
    "plots(Y_ts,Y_pred)\n"
   ]
  },
  {
   "cell_type": "markdown",
   "id": "c00989f0",
   "metadata": {
    "id": "c00989f0"
   },
   "source": [
    "## PCA"
   ]
  },
  {
   "cell_type": "code",
   "execution_count": null,
   "id": "c839e184",
   "metadata": {
    "id": "c839e184"
   },
   "outputs": [],
   "source": [
    "x = StandardScaler().fit_transform(X_tr)\n",
    "x_ts=StandardScaler().fit_transform(X_ts)"
   ]
  },
  {
   "cell_type": "code",
   "execution_count": null,
   "id": "c0408717",
   "metadata": {
    "id": "c0408717"
   },
   "outputs": [],
   "source": [
    "pca=PCA(n_components = 'mle')\n",
    "after_pca=pca.fit_transform(x)"
   ]
  },
  {
   "cell_type": "code",
   "execution_count": null,
   "id": "bbd1e2f5",
   "metadata": {
    "colab": {
     "base_uri": "https://localhost:8080/",
     "height": 295
    },
    "id": "bbd1e2f5",
    "outputId": "cf525bae-11e0-4e38-f934-92433e2b4158"
   },
   "outputs": [],
   "source": [
    "plt.plot(np.cumsum(pca.explained_variance_ratio_))\n",
    "for i in [3,25,45,60]:\n",
    "    plt.annotate(str(i)+' components explain ' + str(round(sum(pca.explained_variance_ratio_[:i])*100,3)) +'% of the data',xy=(i,sum(pca.explained_variance_ratio_[:i])),xytext=(10+i,sum(pca.explained_variance_ratio_[:i])),fontsize='medium',arrowprops={'arrowstyle':'->','mutation_scale':15})\n",
    "plt.xlabel('Number of components')\n",
    "plt.ylabel('Cumulative explained variance')\n",
    "plt.title('Explained variance')\n",
    "plt.show()"
   ]
  },
  {
   "cell_type": "code",
   "execution_count": null,
   "id": "676a0974",
   "metadata": {
    "colab": {
     "base_uri": "https://localhost:8080/",
     "height": 439
    },
    "id": "676a0974",
    "outputId": "230b3b3b-6628-45f0-e377-d6c682c2a790"
   },
   "outputs": [],
   "source": [
    "Pca_data = pd.DataFrame(data = after_pca)\n",
    "Pca_data"
   ]
  },
  {
   "cell_type": "code",
   "execution_count": null,
   "id": "0272f1e5",
   "metadata": {
    "id": "0272f1e5"
   },
   "outputs": [],
   "source": []
  },
  {
   "cell_type": "code",
   "execution_count": null,
   "id": "2e545c34",
   "metadata": {
    "id": "2e545c34"
   },
   "outputs": [],
   "source": [
    "from sklearn.model_selection import cross_val_score\n",
    "from sklearn.model_selection import cross_val_predict\n",
    "from sklearn.metrics import confusion_matrix"
   ]
  },
  {
   "cell_type": "code",
   "execution_count": null,
   "id": "2aca591b",
   "metadata": {
    "colab": {
     "base_uri": "https://localhost:8080/",
     "height": 1000
    },
    "id": "2aca591b",
    "outputId": "349459f0-d7a4-4d96-fbcd-04dc39c6ac9d",
    "scrolled": false
   },
   "outputs": [],
   "source": [
    "from sklearn.linear_model import LogisticRegression\n",
    "LR = LogisticRegression()\n",
    "\n",
    "for i in [0.1, 0.5, 0.7, 0.8, 0.9, 0.95, 0.99]:\n",
    "    pca = PCA(i)\n",
    "    pca.fit(x)\n",
    "    train_set = pca.transform(X_tr)\n",
    "    test_set = pca.transform(X_ts)\n",
    "    LR.fit(train_set, Y_tr)\n",
    "    Y_pred=LR.predict(test_set)\n",
    "    score = LR.score(test_set, Y_ts)\n",
    "    plots(Y_ts,Y_pred)\n",
    "\n",
    "    print('Retaining '+ str(i)+' variance we have '+ str(pca.n_components_)+ ' and we have accuracy of: '+ str(score.mean()))"
   ]
  },
  {
   "cell_type": "code",
   "execution_count": null,
   "id": "97d44aac",
   "metadata": {
    "colab": {
     "base_uri": "https://localhost:8080/",
     "height": 1000
    },
    "id": "97d44aac",
    "outputId": "013cf4b1-3f14-4dc5-b09a-2fd68b69fc6e"
   },
   "outputs": [],
   "source": [
    "from sklearn.neighbors import KNeighborsClassifier\n",
    "from sklearn.metrics import accuracy_score\n",
    "knn = KNeighborsClassifier(n_neighbors=5)\n",
    "\n",
    "for i in [0.1, 0.5, 0.7, 0.8, 0.9, 0.95, 0.99]:\n",
    "    pca = PCA(i)\n",
    "    pca.fit(x)\n",
    "    train_set = pca.transform(X_tr)\n",
    "    test_set = pca.transform(X_ts)\n",
    "    knn.fit(train_set, Y_tr)\n",
    "    score = knn.score(test_set, Y_ts)\n",
    "    Y_pred=knn.predict(test_set)\n",
    "    plots(Y_ts,Y_pred)\n",
    "\n",
    "    print('Retaining '+ str(i)+' variance we have '+ str(pca.n_components_)+ ' and we have accuracy of: '+ str(score.mean()))"
   ]
  },
  {
   "cell_type": "code",
   "execution_count": null,
   "id": "3a5f7926",
   "metadata": {
    "colab": {
     "base_uri": "https://localhost:8080/",
     "height": 1000
    },
    "id": "3a5f7926",
    "outputId": "4e600c2a-9ac4-4a7e-f22a-f0caa74a989e",
    "scrolled": false
   },
   "outputs": [],
   "source": [
    "from sklearn.tree import DecisionTreeClassifier\n",
    "\n",
    "dt = DecisionTreeClassifier()\n",
    "\n",
    "for i in [0.1, 0.5, 0.7, 0.8, 0.9, 0.95, 0.99]:\n",
    "    pca = PCA(i)\n",
    "    pca.fit(x)\n",
    "    train_set = pca.transform(X_tr)\n",
    "    test_set = pca.transform(X_ts)\n",
    "    dt.fit(train_set, Y_tr)\n",
    "    score = dt.score(test_set, Y_ts)\n",
    "    Y_pred=dt.predict(test_set)\n",
    "    plots(Y_ts,Y_pred)\n",
    "    \n",
    "    print('Retaining '+ str(i)+' variance we have '+ str(pca.n_components_)+ ' and we have accuracy of: '+ str(score))"
   ]
  },
  {
   "cell_type": "markdown",
   "id": "jM-OAcEoPsEK",
   "metadata": {
    "id": "jM-OAcEoPsEK"
   },
   "source": [
    "### SMOTE, Over Sample, Under Sample"
   ]
  },
  {
   "cell_type": "code",
   "execution_count": null,
   "id": "8c517972",
   "metadata": {},
   "outputs": [],
   "source": [
    "#!{sys.executable} -m pip install imblearn"
   ]
  },
  {
   "cell_type": "code",
   "execution_count": null,
   "id": "lwFj2XYEPrBO",
   "metadata": {
    "id": "lwFj2XYEPrBO"
   },
   "outputs": [],
   "source": [
    "from imblearn.over_sampling import RandomOverSampler,SMOTE\n",
    "from imblearn.under_sampling import RandomUnderSampler"
   ]
  },
  {
   "cell_type": "code",
   "execution_count": null,
   "id": "e8f2580d",
   "metadata": {},
   "outputs": [],
   "source": [
    "over_sampler = RandomOverSampler()\n",
    "under_sampler = RandomUnderSampler()\n",
    "smote = SMOTE()"
   ]
  },
  {
   "cell_type": "code",
   "execution_count": null,
   "id": "iwTgkZITPrDJ",
   "metadata": {
    "id": "iwTgkZITPrDJ"
   },
   "outputs": [],
   "source": [
    "X_tr_under, Y_tr_under = over_sampler.fit_resample(X_tr,Y_tr)\n",
    "X_tr_over, Y_tr_over = under_sampler.fit_resample(X_tr,Y_tr)\n",
    "X_tr_smote, y_tr_smote = smote.fit_resample(X_tr,Y_tr)"
   ]
  },
  {
   "cell_type": "code",
   "execution_count": null,
   "id": "a59c131d",
   "metadata": {},
   "outputs": [],
   "source": [
    "def simple_clas(Classifier,X_tr, Y_tr):\n",
    "    Classifier.fit(X_tr, Y_tr)\n",
    "    Y_pred=Classifier.predict(X_ts)\n",
    "    score = Classifier.score(X_ts, Y_ts)\n",
    "    plots(Y_ts,Y_pred)\n",
    "    print(Classifier,'We have accuracy of: ', str(score.mean()))\n",
    "    return "
   ]
  },
  {
   "cell_type": "code",
   "execution_count": null,
   "id": "xpWuT_OORode",
   "metadata": {
    "colab": {
     "base_uri": "https://localhost:8080/",
     "height": 375
    },
    "id": "xpWuT_OORode",
    "outputId": "b18cf808-6a56-4afa-b7d9-25d215235d25"
   },
   "outputs": [],
   "source": [
    "simple_clas(LogisticRegression(),X_tr_under, Y_tr_under)\n",
    "simple_clas(DecisionTreeClassifier(),X_tr_under, Y_tr_under)\n",
    "simple_clas(KNeighborsClassifier(),X_tr_under, Y_tr_under)\n",
    "simple_clas(RandomForestClassifier(),X_tr_under, Y_tr_under)"
   ]
  },
  {
   "cell_type": "code",
   "execution_count": null,
   "id": "o5w2bAw6SqhT",
   "metadata": {
    "colab": {
     "base_uri": "https://localhost:8080/",
     "height": 1000
    },
    "id": "o5w2bAw6SqhT",
    "outputId": "d3a4a92f-e3f1-4079-f600-dd12a1fa9556"
   },
   "outputs": [],
   "source": [
    "simple_clas(LogisticRegression(),X_tr_over, Y_tr_over)\n",
    "simple_clas(DecisionTreeClassifier(),X_tr_over, Y_tr_over)\n",
    "simple_clas(KNeighborsClassifier(),X_tr_over, Y_tr_over)\n",
    "simple_clas(RandomForestClassifier(),X_tr_over, Y_tr_over)"
   ]
  },
  {
   "cell_type": "code",
   "execution_count": null,
   "id": "tZJPCVcGIA8W",
   "metadata": {
    "colab": {
     "base_uri": "https://localhost:8080/",
     "height": 1000
    },
    "id": "tZJPCVcGIA8W",
    "outputId": "0a9a656a-bc9f-428f-d3a3-1f0daad3ede5"
   },
   "outputs": [],
   "source": [
    "simple_clas(LogisticRegression(),X_tr_smote, y_tr_smote)\n",
    "simple_clas(DecisionTreeClassifier(),X_tr_smote, y_tr_smote)\n",
    "simple_clas(KNeighborsClassifier(),X_tr_smote, y_tr_smote)\n",
    "simple_clas(RandomForestClassifier(),X_tr_smote, y_tr_smote)"
   ]
  },
  {
   "cell_type": "code",
   "execution_count": null,
   "id": "K6jZOyLDJDeV",
   "metadata": {
    "id": "K6jZOyLDJDeV"
   },
   "outputs": [],
   "source": [
    "def gs_knn_resample(X_tr,Y_tr): \n",
    "    pipeline= make_pipeline(StandardScaler(),SelectKBest(f_classif), KNeighborsClassifier())\n",
    " \n",
    "    grid_searh_knn=GridSearchCV(estimator= pipeline,\n",
    "               param_grid={'kneighborsclassifier__n_neighbors':[4,5,6,7,10,15,20,25,30,35,40],'selectkbest__k': [5,10,15,20,25,30,35,40,45]},\n",
    "               scoring='accuracy',\n",
    "               cv=10)\n",
    "\n",
    "    grid_searh_knn_scores = cross_val_score(grid_searh_knn, X=X_tr, y=Y_tr, cv=5,scoring='accuracy', n_jobs=-1)\n",
    "\n",
    "    grid_searh_knn.fit(X_tr, Y_tr)\n",
    "    grid_searh_knn_best=grid_searh_knn.best_estimator_\n",
    "    grid_searh_knn_best.fit(X_tr, Y_tr)\n",
    "\n",
    "    print(grid_searh_knn_best)\n",
    "    print('Train Accuracy:   {0:.1f}%'.format(grid_searh_knn.score(X_tr, Y_tr)*100))\n",
    "    print('CV Mean Accuracy: {0:.1f}%'.format(np.mean(grid_searh_knn_scores)*100))\n",
    "    print('Test Accuracy:    {0:.1f}%'.format(grid_searh_knn.score(X_ts, Y_ts)*100))\n",
    "\n",
    "    Y_pred=grid_searh_knn_best.predict(X_ts)\n",
    "    plots(Y_ts,Y_pred)\n",
    "    return"
   ]
  },
  {
   "cell_type": "code",
   "execution_count": null,
   "id": "Fq0eDJnUJDhG",
   "metadata": {
    "id": "Fq0eDJnUJDhG"
   },
   "outputs": [],
   "source": [
    "gs_knn_resample(X_tr_smote, y_tr_smote)"
   ]
  },
  {
   "cell_type": "code",
   "execution_count": null,
   "id": "81dcf203",
   "metadata": {},
   "outputs": [],
   "source": [
    "gs_knn_resample(X_tr_under, Y_tr_under)"
   ]
  },
  {
   "cell_type": "code",
   "execution_count": null,
   "id": "9162a729",
   "metadata": {},
   "outputs": [],
   "source": [
    "pipeline= make_pipeline(StandardScaler(),SelectKBest(f_classif), KNeighborsClassifier())\n",
    " \n",
    "grid_searh_knn=GridSearchCV(estimator= pipeline,\n",
    "               param_grid={'kneighborsclassifier__n_neighbors':[4,5,6,7,10,15,20,25,30,35,40],'selectkbest__k': [5,10,15,20,25,30,35,40,45]},\n",
    "               scoring='accuracy',\n",
    "               cv=10)\n",
    "\n",
    "#grid_searh_knn_scores = cross_val_score(grid_searh_knn, X=X_tr_over, y=Y_tr_over, cv=5,scoring='accuracy', n_jobs=-1)\n",
    "\n",
    "grid_searh_knn.fit(X_tr_over, Y_tr_over)\n",
    "grid_searh_knn_best=grid_searh_knn.best_estimator_\n",
    "grid_searh_knn_best.fit(X_tr_over, Y_tr_over)\n",
    "\n",
    "print(grid_searh_knn_best)\n",
    "print('Train Accuracy:   {0:.1f}%'.format(grid_searh_knn.score(X_tr_over, Y_tr_over)*100))\n",
    "#print('CV Mean Accuracy: {0:.1f}%'.format(np.mean(grid_searh_knn_scores)*100))\n",
    "print('Test Accuracy:    {0:.1f}%'.format(grid_searh_knn.score(X_ts, Y_ts)*100))\n",
    "\n",
    "Y_pred=grid_searh_knn_best.predict(X_ts)\n",
    "plots(Y_ts,Y_pred)"
   ]
  },
  {
   "cell_type": "code",
   "execution_count": null,
   "id": "4af528d1",
   "metadata": {},
   "outputs": [],
   "source": [
    "def gs_dt_resample(X_tr,Y_tr): \n",
    "    pipeline= make_pipeline(StandardScaler(),SelectKBest(f_classif), DecisionTreeClassifier())\n",
    "    grid_searh_dt=GridSearchCV(estimator= pipeline,\n",
    "                           param_grid = {'selectkbest__k': [5,10,15,20,25,30,35,40,45],\n",
    "                          'decisiontreeclassifier__max_features': ['auto', 'sqrt', 'log2'],\n",
    "                          'decisiontreeclassifier__ccp_alpha': [0.1, .01, .001],\n",
    "                          'decisiontreeclassifier__max_depth' : [4,5,6,7,8,9,10,11,12,15,20,30,40,50],\n",
    "                          'decisiontreeclassifier__criterion' :['gini', 'entropy']\n",
    "                         },                        \n",
    "              scoring='roc_auc', n_jobs=-1)\n",
    "\n",
    "    grid_searh_dt_scores = cross_val_score(grid_searh_dt, X=X_tr, y=Y_tr, cv=5,scoring='accuracy', n_jobs=-1)\n",
    "    grid_searh_dt.fit(X_tr, Y_tr)\n",
    "    grid_searh_dt_best=grid_searh_dt.best_estimator_\n",
    "    grid_searh_dt_best.fit(X_tr, Y_tr)\n",
    "    print(grid_searh_dt_best)\n",
    "    print('Train Accuracy:   {0:.1f}%'.format(grid_searh_dt.score(X_tr, Y_tr)*100))\n",
    "    print('CV Mean Accuracy: {0:.1f}%'.format(np.mean(grid_searh_dt_scores)*100))\n",
    "    print('Test Accuracy:    {0:.1f}%'.format(grid_searh_dt.score(X_ts, Y_ts)*100))\n",
    "    Y_pred=grid_searh_dt_best.predict(X_ts)\n",
    "    plots(Y_ts,Y_pred)\n",
    "    return"
   ]
  },
  {
   "cell_type": "code",
   "execution_count": null,
   "id": "25408040",
   "metadata": {},
   "outputs": [],
   "source": [
    "gs_dt_resample(X_tr_smote, y_tr_smote)"
   ]
  },
  {
   "cell_type": "code",
   "execution_count": null,
   "id": "0fb7e6e9",
   "metadata": {
    "scrolled": false
   },
   "outputs": [],
   "source": [
    "gs_dt_resample(X_tr_under, Y_tr_under)"
   ]
  },
  {
   "cell_type": "code",
   "execution_count": null,
   "id": "d3033ec4",
   "metadata": {},
   "outputs": [],
   "source": [
    "gs_dt_resample(X_tr_over, Y_tr_over)"
   ]
  },
  {
   "cell_type": "markdown",
   "id": "8bf4aacf",
   "metadata": {},
   "source": [
    "For the final answer we tryied differnent methods. We explore methods such as KNNeighbnours, LogisticRegression, DecisionTrees and Random Forest. We also tryied to reduce our space with PCA but with no effect. Finally we tried to different resample methods such as SMOTE, Over sample and Undersample because our dataset was really unbalanced. The metrics we had in order to find the best methos was the ROC metric. The overall classifier was \n",
    "KNeighborsClassifier(n_neighbors=35)  \n",
    "Train Accuracy:   68.2%  \n",
    "Test Accuracy:    65.8%  \n",
    "with ROC = 0.64724\n",
    "\n",
    "And below we present the 800 most probable clients based on that prediction."
   ]
  },
  {
   "cell_type": "code",
   "execution_count": null,
   "id": "2b680c5e",
   "metadata": {},
   "outputs": [],
   "source": [
    "Probable_clients=pd.DataFrame(grid_searh_knn_best.predict_proba(X_ts), columns=grid_searh_knn_best.classes_)\n",
    "Probable_clients.sort_values(0).head(800)"
   ]
  },
  {
   "cell_type": "code",
   "execution_count": null,
   "id": "6a861f5f",
   "metadata": {},
   "outputs": [],
   "source": []
  }
 ],
 "metadata": {
  "colab": {
   "collapsed_sections": [
    "jwzwu7WOdfTZ"
   ],
   "name": "Lab3.ipynb",
   "provenance": []
  },
  "kernelspec": {
   "display_name": "Python 3",
   "language": "python",
   "name": "python3"
  },
  "language_info": {
   "codemirror_mode": {
    "name": "ipython",
    "version": 3
   },
   "file_extension": ".py",
   "mimetype": "text/x-python",
   "name": "python",
   "nbconvert_exporter": "python",
   "pygments_lexer": "ipython3",
   "version": "3.7.0"
  },
  "latex_envs": {
   "LaTeX_envs_menu_present": true,
   "autoclose": false,
   "autocomplete": true,
   "bibliofile": "biblio.bib",
   "cite_by": "apalike",
   "current_citInitial": 1,
   "eqLabelWithNumbers": true,
   "eqNumInitial": 1,
   "hotkeys": {
    "equation": "Ctrl-E",
    "itemize": "Ctrl-I"
   },
   "labels_anchors": false,
   "latex_user_defs": false,
   "report_style_numbering": false,
   "user_envs_cfg": false
  },
  "toc": {
   "base_numbering": 1,
   "nav_menu": {},
   "number_sections": true,
   "sideBar": true,
   "skip_h1_title": false,
   "title_cell": "Table of Contents",
   "title_sidebar": "Contents",
   "toc_cell": false,
   "toc_position": {},
   "toc_section_display": true,
   "toc_window_display": false
  }
 },
 "nbformat": 4,
 "nbformat_minor": 5
}
